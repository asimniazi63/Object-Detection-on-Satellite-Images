{
  "nbformat": 4,
  "nbformat_minor": 0,
  "metadata": {
    "colab": {
      "name": "SIMS_Yolov3_baseline.ipynb",
      "provenance": [],
      "collapsed_sections": []
    },
    "kernelspec": {
      "name": "python3",
      "display_name": "Python 3"
    },
    "accelerator": "GPU"
  },
  "cells": [
    {
      "cell_type": "markdown",
      "metadata": {
        "id": "p3HE4j_2wQru",
        "colab_type": "text"
      },
      "source": [
        "**Copy images and annotation from drive**"
      ]
    },
    {
      "cell_type": "code",
      "metadata": {
        "id": "OkX9da7Bv6qI",
        "colab_type": "code",
        "colab": {
          "base_uri": "https://localhost:8080/",
          "height": 34
        },
        "outputId": "43f64dba-b195-46f2-b748-599f759078c9"
      },
      "source": [
        "%cp '/content/drive/My Drive/SIMS_Dataset/images.zip' /content/\n",
        "%cp '/content/drive/My Drive/SIMS_Dataset/training.txt' /content/\n",
        "%cp '/content/drive/My Drive/SIMS_Dataset/test.txt' /content/\n",
        "%cp '/content/drive/My Drive/SIMS_Dataset/validation.txt' /content/\n",
        "!unzip -qq images.zip -d /content/\n",
        "\n",
        "print(\"Done Copying and Unzipping\")"
      ],
      "execution_count": 1,
      "outputs": [
        {
          "output_type": "stream",
          "text": [
            "Done Copying and Unzipping\n"
          ],
          "name": "stdout"
        }
      ]
    },
    {
      "cell_type": "markdown",
      "metadata": {
        "id": "773gpD8uyDui",
        "colab_type": "text"
      },
      "source": [
        "**Preprocessing** Did once and copied processed categories into drive for later usage"
      ]
    },
    {
      "cell_type": "code",
      "metadata": {
        "id": "n-QXVSNIy-E3",
        "colab_type": "code",
        "colab": {}
      },
      "source": [
        "#making directories\n",
        "\n",
        "!mkdir yolo_train/\n",
        "!mkdir yolo_train/images\n",
        "!mkdir yolo_train/labels\n",
        "\n",
        "!mkdir yolo_test/\n",
        "!mkdir yolo_test/images\n",
        "!mkdir yolo_test/labels\n",
        "\n",
        "!mkdir yolo_val/\n",
        "!mkdir yolo_val/images\n",
        "!mkdir yolo_val/labels"
      ],
      "execution_count": 0,
      "outputs": []
    },
    {
      "cell_type": "code",
      "metadata": {
        "id": "oFs5UhxKwkLq",
        "colab_type": "code",
        "colab": {
          "base_uri": "https://localhost:8080/",
          "height": 69
        },
        "outputId": "a0082be4-9768-47e2-ed26-aed1b58b8c9d"
      },
      "source": [
        "#separate images based on train,val and test and put corresponding files into \n",
        "#respective folder having images and labels as subfolders in it\n",
        "import shutil\n",
        "import os\n",
        "\n",
        "def copy(filepath,dest_dir):\n",
        "    with open(filepath) as fp:\n",
        "        for line in fp:\n",
        "            os.makedirs(dest_dir, exist_ok=True)  # succeeds even if directory exists.\n",
        "            shutil.copy(line.replace('\\n', ''), dest_dir+\"images\") #image\n",
        "            shutil.copy(line.replace('.jpg\\n', '.txt'), dest_dir+\"labels\") ##label\n",
        "    print(\"Done: \"+ filepath)\n",
        "            \n",
        "copy('./training.txt','yolo_train/')\n",
        "copy('./validation.txt','yolo_val/')\n",
        "copy('./test.txt','yolo_test/')"
      ],
      "execution_count": 3,
      "outputs": [
        {
          "output_type": "stream",
          "text": [
            "Done: ./training.txt\n",
            "Done: ./validation.txt\n",
            "Done: ./test.txt\n"
          ],
          "name": "stdout"
        }
      ]
    },
    {
      "cell_type": "code",
      "metadata": {
        "id": "BAjHUNBkEyau",
        "colab_type": "code",
        "colab": {}
      },
      "source": [
        "#make Dataset folder and place above created folders here\n",
        "!mkdir Dataset\n",
        "!mv yolo_train/ Dataset/\n",
        "!mv yolo_test/ Dataset/\n",
        "!mv yolo_val/ Dataset/"
      ],
      "execution_count": 0,
      "outputs": []
    },
    {
      "cell_type": "code",
      "metadata": {
        "id": "Oomm6rmFPgl9",
        "colab_type": "code",
        "colab": {
          "base_uri": "https://localhost:8080/",
          "height": 69
        },
        "outputId": "a46def48-97cf-4cdd-a5f7-4f43a66a463a"
      },
      "source": [
        "#update paths of train,test,val\n",
        "\n",
        "### replace ./images/0000.jpg to \"/content/yolov3/Dataset/yolo_train/images/0000.jpg\" \n",
        "\n",
        "def copy(filepath,newfile,binder):\n",
        "    with open(filepath) as fp:\n",
        "      print(filepath)\n",
        "      for line in fp:\n",
        "        in_file = line[2:]\n",
        "        new = binder+in_file\n",
        "        with open(newfile, \"a\") as f:\n",
        "          f.write(new)\n",
        "\n",
        "copy('training.txt','Dataset/yolo_train/yolo_train.txt',\n",
        "     \"/content/yolov3/Dataset/yolo_train/\")\n",
        "\n",
        "copy('test.txt','Dataset/yolo_test/yolo_test.txt',\n",
        "     \"/content/yolov3/Dataset/yolo_test/\")\n",
        "\n",
        "copy('validation.txt','Dataset/yolo_val/yolo_val.txt',\n",
        "     \"/content/yolov3/Dataset/yolo_val/\")"
      ],
      "execution_count": 14,
      "outputs": [
        {
          "output_type": "stream",
          "text": [
            "training.txt\n",
            "test.txt\n",
            "validation.txt\n"
          ],
          "name": "stdout"
        }
      ]
    },
    {
      "cell_type": "markdown",
      "metadata": {
        "id": "ARl_oz0CIaHS",
        "colab_type": "text"
      },
      "source": [
        "Copy data and save into drive"
      ]
    },
    {
      "cell_type": "code",
      "metadata": {
        "id": "XFmmeGG41F9V",
        "colab_type": "code",
        "colab": {}
      },
      "source": [
        "#Copied dataset and relevant files to drive\n",
        "!zip -r SIMS_Dataset_yolo.zip /content/yolov3/Dataset/\n",
        "!cp /content/yolov3/SIMS_Dataset_yolo.zip '/content/drive/My Drive/SIMS_Dataset'"
      ],
      "execution_count": 0,
      "outputs": []
    },
    {
      "cell_type": "markdown",
      "metadata": {
        "id": "N-w1i-koGQ1s",
        "colab_type": "text"
      },
      "source": [
        "Preprocessing ended here"
      ]
    },
    {
      "cell_type": "markdown",
      "metadata": {
        "id": "cZZSt5sf26io",
        "colab_type": "text"
      },
      "source": [
        "**Clone repository and install requirements**"
      ]
    },
    {
      "cell_type": "code",
      "metadata": {
        "id": "_p7tHeo622UK",
        "colab_type": "code",
        "outputId": "f4ed0b61-8b81-4d29-99fe-fe06cca3b19c",
        "colab": {
          "base_uri": "https://localhost:8080/",
          "height": 1000
        }
      },
      "source": [
        "!git clone https://github.com/ultralytics/yolov3\n",
        "%cd yolov3/\n",
        "!pip install -U -r requirements.txt"
      ],
      "execution_count": 6,
      "outputs": [
        {
          "output_type": "stream",
          "text": [
            "Cloning into 'yolov3'...\n",
            "remote: Enumerating objects: 9120, done.\u001b[K\n",
            "remote: Total 9120 (delta 0), reused 0 (delta 0), pack-reused 9120\u001b[K\n",
            "Receiving objects: 100% (9120/9120), 7.06 MiB | 9.49 MiB/s, done.\n",
            "Resolving deltas: 100% (6285/6285), done.\n",
            "/content/yolov3\n",
            "Requirement already up-to-date: numpy in /usr/local/lib/python3.6/dist-packages (from -r requirements.txt (line 2)) (1.18.4)\n",
            "Collecting opencv-python>=4.1\n",
            "\u001b[?25l  Downloading https://files.pythonhosted.org/packages/72/c2/e9cf54ae5b1102020ef895866a67cb2e1aef72f16dd1fde5b5fb1495ad9c/opencv_python-4.2.0.34-cp36-cp36m-manylinux1_x86_64.whl (28.2MB)\n",
            "\u001b[K     |████████████████████████████████| 28.2MB 115kB/s \n",
            "\u001b[?25hRequirement already up-to-date: torch>=1.5 in /usr/local/lib/python3.6/dist-packages (from -r requirements.txt (line 4)) (1.5.0+cu101)\n",
            "Requirement already up-to-date: matplotlib in /usr/local/lib/python3.6/dist-packages (from -r requirements.txt (line 5)) (3.2.1)\n",
            "Requirement already up-to-date: pycocotools in /usr/local/lib/python3.6/dist-packages (from -r requirements.txt (line 6)) (2.0.0)\n",
            "Collecting tqdm\n",
            "\u001b[?25l  Downloading https://files.pythonhosted.org/packages/c9/40/058b12e8ba10e35f89c9b1fdfc2d4c7f8c05947df2d5eb3c7b258019fda0/tqdm-4.46.0-py2.py3-none-any.whl (63kB)\n",
            "\u001b[K     |████████████████████████████████| 71kB 11.8MB/s \n",
            "\u001b[?25hCollecting pillow\n",
            "\u001b[?25l  Downloading https://files.pythonhosted.org/packages/e0/50/8e78e6f62ffa50d6ca95c281d5a2819bef66d023ac1b723e253de5bda9c5/Pillow-7.1.2-cp36-cp36m-manylinux1_x86_64.whl (2.1MB)\n",
            "\u001b[K     |████████████████████████████████| 2.1MB 52.7MB/s \n",
            "\u001b[?25hRequirement already up-to-date: tensorboard>=1.14 in /usr/local/lib/python3.6/dist-packages (from -r requirements.txt (line 9)) (2.2.1)\n",
            "Requirement already satisfied, skipping upgrade: future in /usr/local/lib/python3.6/dist-packages (from torch>=1.5->-r requirements.txt (line 4)) (0.16.0)\n",
            "Requirement already satisfied, skipping upgrade: cycler>=0.10 in /usr/local/lib/python3.6/dist-packages (from matplotlib->-r requirements.txt (line 5)) (0.10.0)\n",
            "Requirement already satisfied, skipping upgrade: pyparsing!=2.0.4,!=2.1.2,!=2.1.6,>=2.0.1 in /usr/local/lib/python3.6/dist-packages (from matplotlib->-r requirements.txt (line 5)) (2.4.7)\n",
            "Requirement already satisfied, skipping upgrade: python-dateutil>=2.1 in /usr/local/lib/python3.6/dist-packages (from matplotlib->-r requirements.txt (line 5)) (2.8.1)\n",
            "Requirement already satisfied, skipping upgrade: kiwisolver>=1.0.1 in /usr/local/lib/python3.6/dist-packages (from matplotlib->-r requirements.txt (line 5)) (1.2.0)\n",
            "Requirement already satisfied, skipping upgrade: setuptools>=41.0.0 in /usr/local/lib/python3.6/dist-packages (from tensorboard>=1.14->-r requirements.txt (line 9)) (46.1.3)\n",
            "Requirement already satisfied, skipping upgrade: markdown>=2.6.8 in /usr/local/lib/python3.6/dist-packages (from tensorboard>=1.14->-r requirements.txt (line 9)) (3.2.1)\n",
            "Requirement already satisfied, skipping upgrade: google-auth-oauthlib<0.5,>=0.4.1 in /usr/local/lib/python3.6/dist-packages (from tensorboard>=1.14->-r requirements.txt (line 9)) (0.4.1)\n",
            "Requirement already satisfied, skipping upgrade: absl-py>=0.4 in /usr/local/lib/python3.6/dist-packages (from tensorboard>=1.14->-r requirements.txt (line 9)) (0.9.0)\n",
            "Requirement already satisfied, skipping upgrade: grpcio>=1.24.3 in /usr/local/lib/python3.6/dist-packages (from tensorboard>=1.14->-r requirements.txt (line 9)) (1.28.1)\n",
            "Requirement already satisfied, skipping upgrade: werkzeug>=0.11.15 in /usr/local/lib/python3.6/dist-packages (from tensorboard>=1.14->-r requirements.txt (line 9)) (1.0.1)\n",
            "Requirement already satisfied, skipping upgrade: wheel>=0.26; python_version >= \"3\" in /usr/local/lib/python3.6/dist-packages (from tensorboard>=1.14->-r requirements.txt (line 9)) (0.34.2)\n",
            "Requirement already satisfied, skipping upgrade: requests<3,>=2.21.0 in /usr/local/lib/python3.6/dist-packages (from tensorboard>=1.14->-r requirements.txt (line 9)) (2.23.0)\n",
            "Requirement already satisfied, skipping upgrade: google-auth<2,>=1.6.3 in /usr/local/lib/python3.6/dist-packages (from tensorboard>=1.14->-r requirements.txt (line 9)) (1.7.2)\n",
            "Requirement already satisfied, skipping upgrade: six>=1.10.0 in /usr/local/lib/python3.6/dist-packages (from tensorboard>=1.14->-r requirements.txt (line 9)) (1.12.0)\n",
            "Requirement already satisfied, skipping upgrade: tensorboard-plugin-wit>=1.6.0 in /usr/local/lib/python3.6/dist-packages (from tensorboard>=1.14->-r requirements.txt (line 9)) (1.6.0.post3)\n",
            "Requirement already satisfied, skipping upgrade: protobuf>=3.6.0 in /usr/local/lib/python3.6/dist-packages (from tensorboard>=1.14->-r requirements.txt (line 9)) (3.10.0)\n",
            "Requirement already satisfied, skipping upgrade: requests-oauthlib>=0.7.0 in /usr/local/lib/python3.6/dist-packages (from google-auth-oauthlib<0.5,>=0.4.1->tensorboard>=1.14->-r requirements.txt (line 9)) (1.3.0)\n",
            "Requirement already satisfied, skipping upgrade: certifi>=2017.4.17 in /usr/local/lib/python3.6/dist-packages (from requests<3,>=2.21.0->tensorboard>=1.14->-r requirements.txt (line 9)) (2020.4.5.1)\n",
            "Requirement already satisfied, skipping upgrade: urllib3!=1.25.0,!=1.25.1,<1.26,>=1.21.1 in /usr/local/lib/python3.6/dist-packages (from requests<3,>=2.21.0->tensorboard>=1.14->-r requirements.txt (line 9)) (1.24.3)\n",
            "Requirement already satisfied, skipping upgrade: chardet<4,>=3.0.2 in /usr/local/lib/python3.6/dist-packages (from requests<3,>=2.21.0->tensorboard>=1.14->-r requirements.txt (line 9)) (3.0.4)\n",
            "Requirement already satisfied, skipping upgrade: idna<3,>=2.5 in /usr/local/lib/python3.6/dist-packages (from requests<3,>=2.21.0->tensorboard>=1.14->-r requirements.txt (line 9)) (2.9)\n",
            "Requirement already satisfied, skipping upgrade: pyasn1-modules>=0.2.1 in /usr/local/lib/python3.6/dist-packages (from google-auth<2,>=1.6.3->tensorboard>=1.14->-r requirements.txt (line 9)) (0.2.8)\n",
            "Requirement already satisfied, skipping upgrade: rsa<4.1,>=3.1.4 in /usr/local/lib/python3.6/dist-packages (from google-auth<2,>=1.6.3->tensorboard>=1.14->-r requirements.txt (line 9)) (4.0)\n",
            "Requirement already satisfied, skipping upgrade: cachetools<3.2,>=2.0.0 in /usr/local/lib/python3.6/dist-packages (from google-auth<2,>=1.6.3->tensorboard>=1.14->-r requirements.txt (line 9)) (3.1.1)\n",
            "Requirement already satisfied, skipping upgrade: oauthlib>=3.0.0 in /usr/local/lib/python3.6/dist-packages (from requests-oauthlib>=0.7.0->google-auth-oauthlib<0.5,>=0.4.1->tensorboard>=1.14->-r requirements.txt (line 9)) (3.1.0)\n",
            "Requirement already satisfied, skipping upgrade: pyasn1<0.5.0,>=0.4.6 in /usr/local/lib/python3.6/dist-packages (from pyasn1-modules>=0.2.1->google-auth<2,>=1.6.3->tensorboard>=1.14->-r requirements.txt (line 9)) (0.4.8)\n",
            "\u001b[31mERROR: albumentations 0.1.12 has requirement imgaug<0.2.7,>=0.2.5, but you'll have imgaug 0.2.9 which is incompatible.\u001b[0m\n",
            "Installing collected packages: opencv-python, tqdm, pillow\n",
            "  Found existing installation: opencv-python 4.1.2.30\n",
            "    Uninstalling opencv-python-4.1.2.30:\n",
            "      Successfully uninstalled opencv-python-4.1.2.30\n",
            "  Found existing installation: tqdm 4.41.1\n",
            "    Uninstalling tqdm-4.41.1:\n",
            "      Successfully uninstalled tqdm-4.41.1\n",
            "  Found existing installation: Pillow 7.0.0\n",
            "    Uninstalling Pillow-7.0.0:\n",
            "      Successfully uninstalled Pillow-7.0.0\n",
            "Successfully installed opencv-python-4.2.0.34 pillow-7.1.2 tqdm-4.46.0\n"
          ],
          "name": "stdout"
        },
        {
          "output_type": "display_data",
          "data": {
            "application/vnd.colab-display-data+json": {
              "pip_warning": {
                "packages": [
                  "PIL",
                  "tqdm"
                ]
              }
            }
          },
          "metadata": {
            "tags": []
          }
        }
      ]
    },
    {
      "cell_type": "markdown",
      "metadata": {
        "id": "EqOwJUq3-eV_",
        "colab_type": "text"
      },
      "source": [
        "**created sims_classes.names and sims.data files**"
      ]
    },
    {
      "cell_type": "code",
      "metadata": {
        "id": "zaN1KBtzJnDU",
        "colab_type": "code",
        "outputId": "f3eb7d0d-77b4-4ed0-c690-0b76003a0353",
        "colab": {
          "base_uri": "https://localhost:8080/",
          "height": 34
        }
      },
      "source": [
        "%cd yolov3"
      ],
      "execution_count": 0,
      "outputs": [
        {
          "output_type": "stream",
          "text": [
            "/content/yolov3\n"
          ],
          "name": "stdout"
        }
      ]
    },
    {
      "cell_type": "markdown",
      "metadata": {
        "id": "pppOEQTOIzT1",
        "colab_type": "text"
      },
      "source": [
        "**Load Preprocessed Data from Drive**"
      ]
    },
    {
      "cell_type": "code",
      "metadata": {
        "id": "9BxPfot1Zkxc",
        "colab_type": "code",
        "colab": {}
      },
      "source": [
        "#using copied/preprocessed data now\n",
        "##!mkdir /content/yolov3/Dataset\n",
        "%cp '/content/drive/My Drive/SIMS_Dataset/SIMS_yolo.zip' /content/yolov3/\n",
        "!unzip SIMS_yolo.zip -d /content/yolov3/"
      ],
      "execution_count": 0,
      "outputs": []
    },
    {
      "cell_type": "code",
      "metadata": {
        "id": "7OUnd4rDBQw0",
        "colab_type": "code",
        "outputId": "5fc7ad1f-0ade-4877-c1b1-5305e92e6681",
        "colab": {
          "base_uri": "https://localhost:8080/",
          "height": 279
        }
      },
      "source": [
        "#download pretrained weights\n",
        "!. weights/download_yolov3_weights.sh"
      ],
      "execution_count": 0,
      "outputs": [
        {
          "output_type": "stream",
          "text": [
            "  % Total    % Received % Xferd  Average Speed   Time    Time     Time  Current\n",
            "                                 Dload  Upload   Total   Spent    Left  Speed\n",
            "100   408    0   408    0     0    681      0 --:--:-- --:--:-- --:--:--   681\n",
            "  0     0    0     0    0     0      0      0 --:--:-- --:--:-- --:--:--     0\n",
            "  0     0    0     0    0     0      0      0 --:--:--  0:00:01 --:--:--     0\n",
            "100  236M    0  236M    0     0  53.4M      0 --:--:--  0:00:04 --:--:-- 88.4M\n",
            "Downloading https://drive.google.com/uc?export=download&id=1SHNFyoe5Ni8DajDNEqgB2oVKBb_NoEad as weights/yolov3.pt... Done (5.1s)\n",
            "  % Total    % Received % Xferd  Average Speed   Time    Time     Time  Current\n",
            "                                 Dload  Upload   Total   Spent    Left  Speed\n",
            "100   408    0   408    0     0   1291      0 --:--:-- --:--:-- --:--:--  1291\n",
            "  0     0    0     0    0     0      0      0 --:--:-- --:--:-- --:--:--     0\n",
            "  0     0    0     0    0     0      0      0 --:--:-- --:--:-- --:--:--     0\n",
            "100  240M    0  240M    0     0  35.9M      0 --:--:--  0:00:06 --:--:-- 50.8M\n",
            "Downloading https://drive.google.com/uc?export=download&id=1f6Ovy3BSq2wYq4UfvFUpxJFNDFfrIDcR as weights/yolov3-spp.pt... Done (7.1s)\n"
          ],
          "name": "stdout"
        }
      ]
    },
    {
      "cell_type": "code",
      "metadata": {
        "id": "omNsjqJ4iE7o",
        "colab_type": "code",
        "outputId": "0e6d07f8-40fb-4598-f5ae-e4dfb01d55ef",
        "colab": {
          "base_uri": "https://localhost:8080/",
          "height": 1000
        }
      },
      "source": [
        "#start training\n",
        "!python3 train.py --batch 8 --epochs 60 --img-size 512 --data Dataset/sims.txt --cache-images --rec --cfg yolov3.cfg --name from_yolov3 --weights weights/yolov3.pt"
      ],
      "execution_count": 0,
      "outputs": [
        {
          "output_type": "stream",
          "text": [
            "Apex recommended for faster mixed precision training: https://github.com/NVIDIA/apex\n",
            "Namespace(adam=False, batch_size=8, bucket='', cache_images=True, cfg='yolov3.cfg', data='Dataset/sims.txt', device='', epochs=60, evolve=False, img_size=[512], multi_scale=False, name='from_yolov3', nosave=False, notest=False, rect=True, resume=False, single_cls=False, weights='weights/yolov3.pt')\n",
            "Using CUDA device0 _CudaDeviceProperties(name='Tesla P4', total_memory=7611MB)\n",
            "\n",
            "Start Tensorboard with \"tensorboard --logdir=runs\", view at http://localhost:6006/\n",
            "2020-05-06 04:43:12.184919: I tensorflow/stream_executor/platform/default/dso_loader.cc:44] Successfully opened dynamic library libcudart.so.10.1\n",
            "Model Summary: 222 layers, 6.15991e+07 parameters, 6.15991e+07 gradients\n",
            "Optimizer groups: 75 .bias, 75 Conv2d.weight, 72 other\n",
            "/usr/local/lib/python3.6/dist-packages/torch/optim/lr_scheduler.py:123: UserWarning: Detected call of `lr_scheduler.step()` before `optimizer.step()`. In PyTorch 1.1.0 and later, you should call them in the opposite order: `optimizer.step()` before `lr_scheduler.step()`.  Failure to do this will result in PyTorch skipping the first value of the learning rate schedule. See more details at https://pytorch.org/docs/stable/optim.html#how-to-adjust-learning-rate\n",
            "  \"https://pytorch.org/docs/stable/optim.html#how-to-adjust-learning-rate\", UserWarning)\n",
            "Caching labels (3232 found, 0 missing, 0 empty, 0 duplicate, for 3233 images): 100% 3233/3233 [00:00<00:00, 9132.51it/s]\n",
            "Caching images (1.9GB): 100% 3233/3233 [00:36<00:00, 87.86it/s]\n",
            "Caching labels (1740 found, 0 missing, 0 empty, 0 duplicate, for 1741 images): 100% 1741/1741 [00:00<00:00, 7946.25it/s]\n",
            "Caching images (1.0GB): 100% 1741/1741 [00:19<00:00, 90.91it/s]\n",
            "Image sizes 512 - 512 train, 512 test\n",
            "Using 2 dataloader workers\n",
            "Starting training for 60 epochs...\n",
            "\n",
            "     Epoch   gpu_mem      GIoU       obj       cls     total   targets  img_size\n",
            "      0/59     4.88G       5.2       4.3      4.57      14.1         0       512: 100% 405/405 [05:10<00:00,  1.31it/s]\n",
            "               Class    Images   Targets         P         R   mAP@0.5        F1: 100% 218/218 [01:20<00:00,  2.71it/s]\n",
            "                 all  1.74e+03  2.12e+04    0.0694     0.101    0.0587    0.0741\n",
            "\n",
            "     Epoch   gpu_mem      GIoU       obj       cls     total   targets  img_size\n",
            "      1/59     4.89G      4.04       2.2      3.86      10.1         0       512: 100% 405/405 [05:11<00:00,  1.30it/s]\n",
            "               Class    Images   Targets         P         R   mAP@0.5        F1: 100% 218/218 [01:19<00:00,  2.76it/s]\n",
            "                 all  1.74e+03  2.12e+04     0.155     0.238     0.165     0.156\n",
            "\n",
            "     Epoch   gpu_mem      GIoU       obj       cls     total   targets  img_size\n",
            "      2/59     4.89G      3.38      1.69      3.43       8.5         0       512: 100% 405/405 [05:11<00:00,  1.30it/s]\n",
            "               Class    Images   Targets         P         R   mAP@0.5        F1: 100% 218/218 [01:20<00:00,  2.72it/s]\n",
            "                 all  1.74e+03  2.12e+04     0.149     0.397     0.195     0.195\n",
            "\n",
            "     Epoch   gpu_mem      GIoU       obj       cls     total   targets  img_size\n",
            "  0% 0/405 [00:00<?, ?it/s]\n",
            "Model Bias Summary:    layer        regression        objectness    classification\n",
            "                          82      -0.15+/-0.19      -5.14+/-0.89      -3.10+/-0.37 \n",
            "                          94      -0.08+/-0.23      -4.91+/-0.25      -3.11+/-0.34 \n",
            "                         106       0.16+/-0.27      -5.56+/-0.66      -3.15+/-0.49 \n",
            "      3/59     4.89G      3.08      1.44      2.91      7.43         0       512: 100% 405/405 [05:11<00:00,  1.30it/s]\n",
            "               Class    Images   Targets         P         R   mAP@0.5        F1: 100% 218/218 [01:16<00:00,  2.86it/s]\n",
            "                 all  1.74e+03  2.12e+04     0.199     0.441     0.266     0.252\n",
            "\n",
            "     Epoch   gpu_mem      GIoU       obj       cls     total   targets  img_size\n",
            "      4/59     4.89G      2.78      1.28      2.52      6.59         0       512: 100% 405/405 [05:11<00:00,  1.30it/s]\n",
            "               Class    Images   Targets         P         R   mAP@0.5        F1: 100% 218/218 [01:13<00:00,  2.96it/s]\n",
            "                 all  1.74e+03  2.12e+04     0.223     0.475     0.325      0.28\n",
            "\n",
            "     Epoch   gpu_mem      GIoU       obj       cls     total   targets  img_size\n",
            "      5/59     4.89G      2.65      1.17      2.22      6.04         0       512: 100% 405/405 [05:11<00:00,  1.30it/s]\n",
            "               Class    Images   Targets         P         R   mAP@0.5        F1: 100% 218/218 [01:12<00:00,  3.02it/s]\n",
            "                 all  1.74e+03  2.12e+04     0.228     0.549     0.357     0.312\n",
            "\n",
            "     Epoch   gpu_mem      GIoU       obj       cls     total   targets  img_size\n",
            "      6/59     4.89G      2.52      1.08      1.96      5.56         0       512: 100% 405/405 [05:12<00:00,  1.30it/s]\n",
            "               Class    Images   Targets         P         R   mAP@0.5        F1: 100% 218/218 [01:12<00:00,  3.01it/s]\n",
            "                 all  1.74e+03  2.12e+04     0.222     0.538     0.356     0.306\n",
            "\n",
            "     Epoch   gpu_mem      GIoU       obj       cls     total   targets  img_size\n",
            "      7/59     4.89G      2.07      1.03      1.76      4.86         0       512: 100% 405/405 [05:12<00:00,  1.30it/s]\n",
            "               Class    Images   Targets         P         R   mAP@0.5        F1: 100% 218/218 [01:09<00:00,  3.13it/s]\n",
            "                 all  1.74e+03  2.12e+04     0.244     0.567     0.404     0.327\n",
            "\n",
            "     Epoch   gpu_mem      GIoU       obj       cls     total   targets  img_size\n",
            "      8/59     4.89G      1.85     0.979      1.64      4.47         0       512: 100% 405/405 [05:12<00:00,  1.30it/s]\n",
            "               Class    Images   Targets         P         R   mAP@0.5        F1: 100% 218/218 [01:09<00:00,  3.16it/s]\n",
            "                 all  1.74e+03  2.12e+04      0.25     0.576     0.411     0.335\n",
            "\n",
            "     Epoch   gpu_mem      GIoU       obj       cls     total   targets  img_size\n",
            "      9/59     4.89G      1.75     0.948      1.57      4.27         0       512: 100% 405/405 [05:12<00:00,  1.30it/s]\n",
            "               Class    Images   Targets         P         R   mAP@0.5        F1: 100% 218/218 [01:08<00:00,  3.18it/s]\n",
            "                 all  1.74e+03  2.12e+04     0.254     0.577     0.419     0.339\n",
            "\n",
            "     Epoch   gpu_mem      GIoU       obj       cls     total   targets  img_size\n",
            "     10/59     4.89G       1.7     0.931       1.5      4.13         0       512: 100% 405/405 [05:12<00:00,  1.30it/s]\n",
            "               Class    Images   Targets         P         R   mAP@0.5        F1: 100% 218/218 [01:07<00:00,  3.22it/s]\n",
            "                 all  1.74e+03  2.12e+04     0.258     0.581     0.421     0.343\n",
            "\n",
            "     Epoch   gpu_mem      GIoU       obj       cls     total   targets  img_size\n",
            "     11/59     4.89G      1.66     0.906      1.43         4         0       512: 100% 405/405 [05:12<00:00,  1.30it/s]\n",
            "               Class    Images   Targets         P         R   mAP@0.5        F1: 100% 218/218 [01:07<00:00,  3.24it/s]\n",
            "                 all  1.74e+03  2.12e+04     0.267      0.58     0.428     0.352\n",
            "\n",
            "     Epoch   gpu_mem      GIoU       obj       cls     total   targets  img_size\n",
            "     12/59     4.89G      1.62      0.89      1.36      3.87         0       512: 100% 405/405 [05:12<00:00,  1.30it/s]\n",
            "               Class    Images   Targets         P         R   mAP@0.5        F1: 100% 218/218 [01:07<00:00,  3.24it/s]\n",
            "                 all  1.74e+03  2.12e+04     0.273     0.583     0.437     0.359\n",
            "\n",
            "     Epoch   gpu_mem      GIoU       obj       cls     total   targets  img_size\n",
            "     13/59     4.89G      1.61     0.871      1.27      3.75         0       512: 100% 405/405 [05:12<00:00,  1.30it/s]\n",
            "               Class    Images   Targets         P         R   mAP@0.5        F1: 100% 218/218 [01:06<00:00,  3.26it/s]\n",
            "                 all  1.74e+03  2.12e+04     0.276     0.586     0.445     0.362\n",
            "\n",
            "     Epoch   gpu_mem      GIoU       obj       cls     total   targets  img_size\n",
            "     14/59     4.89G      1.58     0.854       1.2      3.63         0       512: 100% 405/405 [05:12<00:00,  1.30it/s]\n",
            "               Class    Images   Targets         P         R   mAP@0.5        F1: 100% 218/218 [01:07<00:00,  3.23it/s]\n",
            "                 all  1.74e+03  2.12e+04     0.284     0.591     0.452      0.37\n",
            "\n",
            "     Epoch   gpu_mem      GIoU       obj       cls     total   targets  img_size\n",
            "     15/59     4.89G       1.6     0.839      1.12      3.56         0       512: 100% 405/405 [05:12<00:00,  1.30it/s]\n",
            "               Class    Images   Targets         P         R   mAP@0.5        F1: 100% 218/218 [01:07<00:00,  3.23it/s]\n",
            "                 all  1.74e+03  2.12e+04     0.284     0.588     0.453      0.37\n",
            "\n",
            "     Epoch   gpu_mem      GIoU       obj       cls     total   targets  img_size\n",
            "     16/59     4.89G      1.61     0.812      1.05      3.47         0       512: 100% 405/405 [05:12<00:00,  1.30it/s]\n",
            "               Class    Images   Targets         P         R   mAP@0.5        F1: 100% 218/218 [01:07<00:00,  3.25it/s]\n",
            "                 all  1.74e+03  2.12e+04       0.3     0.592     0.467     0.385\n",
            "\n",
            "     Epoch   gpu_mem      GIoU       obj       cls     total   targets  img_size\n",
            "     17/59     4.89G      1.62     0.796     0.988      3.41         0       512: 100% 405/405 [05:12<00:00,  1.29it/s]\n",
            "               Class    Images   Targets         P         R   mAP@0.5        F1: 100% 218/218 [01:06<00:00,  3.27it/s]\n",
            "                 all  1.74e+03  2.12e+04     0.304     0.599      0.47     0.388\n",
            "\n",
            "     Epoch   gpu_mem      GIoU       obj       cls     total   targets  img_size\n",
            "     18/59     4.89G      1.65     0.788     0.933      3.38         0       512: 100% 405/405 [05:12<00:00,  1.30it/s]\n",
            "               Class    Images   Targets         P         R   mAP@0.5        F1: 100% 218/218 [01:06<00:00,  3.30it/s]\n",
            "                 all  1.74e+03  2.12e+04     0.312     0.577     0.464     0.395\n",
            "\n",
            "     Epoch   gpu_mem      GIoU       obj       cls     total   targets  img_size\n",
            "     19/59     4.89G      1.66     0.768     0.871       3.3         0       512: 100% 405/405 [05:12<00:00,  1.30it/s]\n",
            "               Class    Images   Targets         P         R   mAP@0.5        F1: 100% 218/218 [01:05<00:00,  3.31it/s]\n",
            "                 all  1.74e+03  2.12e+04     0.316     0.581     0.473     0.397\n",
            "\n",
            "     Epoch   gpu_mem      GIoU       obj       cls     total   targets  img_size\n",
            "     20/59     4.89G      1.71     0.753     0.826      3.29         0       512: 100% 405/405 [05:12<00:00,  1.30it/s]\n",
            "               Class    Images   Targets         P         R   mAP@0.5        F1: 100% 218/218 [01:06<00:00,  3.30it/s]\n",
            "                 all  1.74e+03  2.12e+04     0.308     0.587      0.47     0.391\n",
            "\n",
            "     Epoch   gpu_mem      GIoU       obj       cls     total   targets  img_size\n",
            "     21/59     4.89G      1.74     0.737     0.783      3.26         0       512: 100% 405/405 [05:12<00:00,  1.30it/s]\n",
            "               Class    Images   Targets         P         R   mAP@0.5        F1: 100% 218/218 [01:06<00:00,  3.29it/s]\n",
            "                 all  1.74e+03  2.12e+04     0.365     0.576     0.485      0.41\n",
            "\n",
            "     Epoch   gpu_mem      GIoU       obj       cls     total   targets  img_size\n",
            "     22/59     4.89G      1.75     0.721      0.74      3.21         0       512: 100% 405/405 [05:12<00:00,  1.29it/s]\n",
            "               Class    Images   Targets         P         R   mAP@0.5        F1: 100% 218/218 [01:06<00:00,  3.30it/s]\n",
            "                 all  1.74e+03  2.12e+04     0.427       0.6     0.489     0.422\n",
            "\n",
            "     Epoch   gpu_mem      GIoU       obj       cls     total   targets  img_size\n",
            "     23/59     4.89G      1.76     0.709     0.692      3.16         0       512: 100% 405/405 [05:12<00:00,  1.29it/s]\n",
            "               Class    Images   Targets         P         R   mAP@0.5        F1: 100% 218/218 [01:06<00:00,  3.28it/s]\n",
            "                 all  1.74e+03  2.12e+04     0.362     0.586     0.496     0.427\n",
            "\n",
            "     Epoch   gpu_mem      GIoU       obj       cls     total   targets  img_size\n",
            "     24/59     4.89G      1.77     0.691     0.658      3.12         0       512: 100% 405/405 [05:12<00:00,  1.29it/s]\n",
            "               Class    Images   Targets         P         R   mAP@0.5        F1: 100% 218/218 [01:06<00:00,  3.27it/s]\n",
            "                 all  1.74e+03  2.12e+04     0.336     0.577     0.473     0.411\n",
            "\n",
            "     Epoch   gpu_mem      GIoU       obj       cls     total   targets  img_size\n",
            "     25/59     4.89G      1.84     0.692     0.654      3.19         0       512: 100% 405/405 [05:13<00:00,  1.29it/s]\n",
            "               Class    Images   Targets         P         R   mAP@0.5        F1: 100% 218/218 [01:06<00:00,  3.27it/s]\n",
            "                 all  1.74e+03  2.12e+04     0.403     0.609     0.484     0.429\n",
            "\n",
            "     Epoch   gpu_mem      GIoU       obj       cls     total   targets  img_size\n",
            "     26/59     4.89G      1.86     0.682     0.634      3.17         0       512: 100% 405/405 [05:12<00:00,  1.29it/s]\n",
            "               Class    Images   Targets         P         R   mAP@0.5        F1: 100% 218/218 [01:06<00:00,  3.29it/s]\n",
            "                 all  1.74e+03  2.12e+04      0.43     0.581     0.495     0.448\n",
            "\n",
            "     Epoch   gpu_mem      GIoU       obj       cls     total   targets  img_size\n",
            "     27/59     4.89G      1.86     0.681      0.64      3.18         0       512: 100% 405/405 [05:13<00:00,  1.29it/s]\n",
            "               Class    Images   Targets         P         R   mAP@0.5        F1: 100% 218/218 [01:06<00:00,  3.30it/s]\n",
            "                 all  1.74e+03  2.12e+04     0.426     0.614     0.501     0.447\n",
            "\n",
            "     Epoch   gpu_mem      GIoU       obj       cls     total   targets  img_size\n",
            "     28/59     4.89G       1.9     0.674     0.602      3.17         0       512: 100% 405/405 [05:12<00:00,  1.30it/s]\n",
            "               Class    Images   Targets         P         R   mAP@0.5        F1: 100% 218/218 [01:06<00:00,  3.27it/s]\n",
            "                 all  1.74e+03  2.12e+04     0.429      0.62     0.503     0.453\n",
            "\n",
            "     Epoch   gpu_mem      GIoU       obj       cls     total   targets  img_size\n",
            "     29/59     4.89G      1.84     0.655      0.57      3.06         0       512: 100% 405/405 [05:12<00:00,  1.29it/s]\n",
            "               Class    Images   Targets         P         R   mAP@0.5        F1: 100% 218/218 [01:06<00:00,  3.30it/s]\n",
            "                 all  1.74e+03  2.12e+04     0.447      0.62     0.514     0.468\n",
            "\n",
            "     Epoch   gpu_mem      GIoU       obj       cls     total   targets  img_size\n",
            "     30/59     4.89G      1.89     0.645      0.56      3.09         0       512: 100% 405/405 [05:13<00:00,  1.29it/s]\n",
            "               Class    Images   Targets         P         R   mAP@0.5        F1: 100% 218/218 [01:05<00:00,  3.32it/s]\n",
            "                 all  1.74e+03  2.12e+04     0.499     0.613     0.508     0.463\n",
            "\n",
            "     Epoch   gpu_mem      GIoU       obj       cls     total   targets  img_size\n",
            "     31/59     4.89G       1.9     0.642     0.541      3.09         0       512: 100% 405/405 [05:12<00:00,  1.29it/s]\n",
            "               Class    Images   Targets         P         R   mAP@0.5        F1: 100% 218/218 [01:05<00:00,  3.31it/s]\n",
            "                 all  1.74e+03  2.12e+04     0.413     0.623     0.487      0.45\n",
            "\n",
            "     Epoch   gpu_mem      GIoU       obj       cls     total   targets  img_size\n",
            "     32/59     4.89G      1.89     0.632      0.52      3.04         0       512: 100% 405/405 [05:13<00:00,  1.29it/s]\n",
            "               Class    Images   Targets         P         R   mAP@0.5        F1: 100% 218/218 [01:04<00:00,  3.36it/s]\n",
            "                 all  1.74e+03  2.12e+04     0.522     0.616     0.529     0.495\n",
            "\n",
            "     Epoch   gpu_mem      GIoU       obj       cls     total   targets  img_size\n",
            "     33/59     4.89G      1.91     0.633     0.501      3.04         0       512: 100% 405/405 [05:13<00:00,  1.29it/s]\n",
            "               Class    Images   Targets         P         R   mAP@0.5        F1: 100% 218/218 [01:05<00:00,  3.32it/s]\n",
            "                 all  1.74e+03  2.12e+04     0.449     0.619     0.531     0.473\n",
            "\n",
            "     Epoch   gpu_mem      GIoU       obj       cls     total   targets  img_size\n",
            "     34/59     4.89G      1.95     0.625     0.471      3.05         0       512: 100% 405/405 [05:13<00:00,  1.29it/s]\n",
            "               Class    Images   Targets         P         R   mAP@0.5        F1: 100% 218/218 [01:05<00:00,  3.32it/s]\n",
            "                 all  1.74e+03  2.12e+04     0.516     0.628     0.535     0.476\n",
            "\n",
            "     Epoch   gpu_mem      GIoU       obj       cls     total   targets  img_size\n",
            "     35/59     4.89G      1.94     0.617     0.461      3.02         0       512: 100% 405/405 [05:13<00:00,  1.29it/s]\n",
            "               Class    Images   Targets         P         R   mAP@0.5        F1: 100% 218/218 [01:06<00:00,  3.30it/s]\n",
            "                 all  1.74e+03  2.12e+04     0.429     0.619      0.54     0.479\n",
            "\n",
            "     Epoch   gpu_mem      GIoU       obj       cls     total   targets  img_size\n",
            "     36/59     4.89G      1.93     0.613     0.442      2.99         0       512: 100% 405/405 [05:14<00:00,  1.29it/s]\n",
            "               Class    Images   Targets         P         R   mAP@0.5        F1: 100% 218/218 [01:06<00:00,  3.28it/s]\n",
            "                 all  1.74e+03  2.12e+04     0.413     0.681     0.524     0.484\n",
            "\n",
            "     Epoch   gpu_mem      GIoU       obj       cls     total   targets  img_size\n",
            "     37/59     4.89G      1.93      0.61     0.443      2.98         0       512: 100% 405/405 [05:13<00:00,  1.29it/s]\n",
            "               Class    Images   Targets         P         R   mAP@0.5        F1: 100% 218/218 [01:05<00:00,  3.31it/s]\n",
            "                 all  1.74e+03  2.12e+04     0.417     0.635     0.531     0.485\n",
            "\n",
            "     Epoch   gpu_mem      GIoU       obj       cls     total   targets  img_size\n",
            "     38/59     4.89G      2.01     0.617     0.448      3.08         0       512: 100% 405/405 [05:14<00:00,  1.29it/s]\n",
            "               Class    Images   Targets         P         R   mAP@0.5        F1: 100% 218/218 [01:06<00:00,  3.28it/s]\n",
            "                 all  1.74e+03  2.12e+04     0.435     0.697      0.53     0.505\n",
            "\n",
            "     Epoch   gpu_mem      GIoU       obj       cls     total   targets  img_size\n",
            "     39/59     4.89G      1.97     0.615     0.454      3.03         0       512: 100% 405/405 [05:14<00:00,  1.29it/s]\n",
            "               Class    Images   Targets         P         R   mAP@0.5        F1: 100% 218/218 [01:05<00:00,  3.33it/s]\n",
            "                 all  1.74e+03  2.12e+04     0.395      0.68     0.516     0.479\n",
            "\n",
            "     Epoch   gpu_mem      GIoU       obj       cls     total   targets  img_size\n",
            "     40/59     4.89G      1.87     0.599      0.41      2.88         0       512: 100% 405/405 [05:14<00:00,  1.29it/s]\n",
            "               Class    Images   Targets         P         R   mAP@0.5        F1: 100% 218/218 [01:05<00:00,  3.34it/s]\n",
            "                 all  1.74e+03  2.12e+04     0.439     0.661     0.547     0.501\n",
            "\n",
            "     Epoch   gpu_mem      GIoU       obj       cls     total   targets  img_size\n",
            "     41/59     4.89G      1.95     0.611     0.416      2.98         0       512: 100% 405/405 [05:14<00:00,  1.29it/s]\n",
            "               Class    Images   Targets         P         R   mAP@0.5        F1: 100% 218/218 [01:05<00:00,  3.35it/s]\n",
            "                 all  1.74e+03  2.12e+04     0.401     0.663     0.523     0.477\n",
            "\n",
            "     Epoch   gpu_mem      GIoU       obj       cls     total   targets  img_size\n",
            "     42/59     4.89G      1.93     0.602     0.397      2.92         0       512: 100% 405/405 [05:14<00:00,  1.29it/s]\n",
            "               Class    Images   Targets         P         R   mAP@0.5        F1: 100% 218/218 [01:05<00:00,  3.35it/s]\n",
            "                 all  1.74e+03  2.12e+04     0.412     0.678     0.516      0.48\n",
            "\n",
            "     Epoch   gpu_mem      GIoU       obj       cls     total   targets  img_size\n",
            "     43/59     4.89G      1.94     0.598     0.403      2.94         0       512: 100% 405/405 [05:14<00:00,  1.29it/s]\n",
            "               Class    Images   Targets         P         R   mAP@0.5        F1: 100% 218/218 [01:04<00:00,  3.37it/s]\n",
            "                 all  1.74e+03  2.12e+04     0.453     0.673     0.563     0.522\n",
            "\n",
            "     Epoch   gpu_mem      GIoU       obj       cls     total   targets  img_size\n",
            "     44/59     4.89G       1.9     0.589     0.376      2.87         0       512: 100% 405/405 [05:13<00:00,  1.29it/s]\n",
            "               Class    Images   Targets         P         R   mAP@0.5        F1: 100% 218/218 [01:05<00:00,  3.35it/s]\n",
            "                 all  1.74e+03  2.12e+04      0.47     0.635     0.545     0.505\n",
            "\n",
            "     Epoch   gpu_mem      GIoU       obj       cls     total   targets  img_size\n",
            "     45/59     4.89G      1.95     0.589     0.388      2.93         0       512: 100% 405/405 [05:13<00:00,  1.29it/s]\n",
            "               Class    Images   Targets         P         R   mAP@0.5        F1: 100% 218/218 [01:04<00:00,  3.38it/s]\n",
            "                 all  1.74e+03  2.12e+04      0.53     0.683     0.571     0.534\n",
            "\n",
            "     Epoch   gpu_mem      GIoU       obj       cls     total   targets  img_size\n",
            "     46/59     4.89G      1.93     0.582     0.379      2.89         0       512: 100% 405/405 [05:14<00:00,  1.29it/s]\n",
            "               Class    Images   Targets         P         R   mAP@0.5        F1: 100% 218/218 [01:04<00:00,  3.37it/s]\n",
            "                 all  1.74e+03  2.12e+04     0.516     0.638     0.554     0.512\n",
            "\n",
            "     Epoch   gpu_mem      GIoU       obj       cls     total   targets  img_size\n",
            "     47/59     4.89G      1.89     0.578      0.36      2.83         0       512: 100% 405/405 [05:14<00:00,  1.29it/s]\n",
            "               Class    Images   Targets         P         R   mAP@0.5        F1: 100% 218/218 [01:05<00:00,  3.34it/s]\n",
            "                 all  1.74e+03  2.12e+04     0.514     0.638     0.569      0.51\n",
            "\n",
            "     Epoch   gpu_mem      GIoU       obj       cls     total   targets  img_size\n",
            "     48/59     4.89G      1.86     0.567     0.353      2.78         0       512: 100% 405/405 [05:14<00:00,  1.29it/s]\n",
            "               Class    Images   Targets         P         R   mAP@0.5        F1: 100% 218/218 [01:04<00:00,  3.36it/s]\n",
            "                 all  1.74e+03  2.12e+04     0.449     0.657     0.537     0.511\n",
            "\n",
            "     Epoch   gpu_mem      GIoU       obj       cls     total   targets  img_size\n",
            "     49/59     4.89G      1.87      0.57     0.365       2.8         0       512: 100% 405/405 [05:14<00:00,  1.29it/s]\n",
            "               Class    Images   Targets         P         R   mAP@0.5        F1: 100% 218/218 [01:05<00:00,  3.33it/s]\n",
            "                 all  1.74e+03  2.12e+04      0.45     0.649     0.546     0.503\n",
            "\n",
            "     Epoch   gpu_mem      GIoU       obj       cls     total   targets  img_size\n",
            "     50/59     4.89G       1.9     0.577      0.39      2.87         0       512: 100% 405/405 [05:14<00:00,  1.29it/s]\n",
            "               Class    Images   Targets         P         R   mAP@0.5        F1: 100% 218/218 [01:05<00:00,  3.34it/s]\n",
            "                 all  1.74e+03  2.12e+04     0.514     0.638     0.551     0.481\n",
            "\n",
            "     Epoch   gpu_mem      GIoU       obj       cls     total   targets  img_size\n",
            "     51/59     4.89G      1.85     0.578      0.39      2.82         0       512: 100% 405/405 [05:14<00:00,  1.29it/s]\n",
            "               Class    Images   Targets         P         R   mAP@0.5        F1: 100% 218/218 [01:05<00:00,  3.35it/s]\n",
            "                 all  1.74e+03  2.12e+04     0.459     0.708     0.592     0.544\n",
            "\n",
            "     Epoch   gpu_mem      GIoU       obj       cls     total   targets  img_size\n",
            "     52/59     4.89G      1.82     0.575     0.367      2.77         0       512: 100% 405/405 [05:14<00:00,  1.29it/s]\n",
            "               Class    Images   Targets         P         R   mAP@0.5        F1: 100% 218/218 [01:05<00:00,  3.33it/s]\n",
            "                 all  1.74e+03  2.12e+04     0.484     0.682     0.581     0.536\n",
            "\n",
            "     Epoch   gpu_mem      GIoU       obj       cls     total   targets  img_size\n",
            "     53/59     4.89G      1.86     0.578     0.372      2.81         0       512: 100% 405/405 [05:14<00:00,  1.29it/s]\n",
            "               Class    Images   Targets         P         R   mAP@0.5        F1: 100% 218/218 [01:05<00:00,  3.33it/s]\n",
            "                 all  1.74e+03  2.12e+04       0.5     0.679     0.601     0.539\n",
            "\n",
            "     Epoch   gpu_mem      GIoU       obj       cls     total   targets  img_size\n",
            "     54/59     4.89G      1.82     0.566     0.341      2.72         0       512: 100% 405/405 [05:14<00:00,  1.29it/s]\n",
            "               Class    Images   Targets         P         R   mAP@0.5        F1: 100% 218/218 [01:05<00:00,  3.32it/s]\n",
            "                 all  1.74e+03  2.12e+04     0.496     0.651     0.574     0.498\n",
            "\n",
            "     Epoch   gpu_mem      GIoU       obj       cls     total   targets  img_size\n",
            "     55/59     4.89G      1.86     0.567     0.347      2.77         0       512: 100% 405/405 [05:14<00:00,  1.29it/s]\n",
            "               Class    Images   Targets         P         R   mAP@0.5        F1: 100% 218/218 [01:05<00:00,  3.35it/s]\n",
            "                 all  1.74e+03  2.12e+04     0.413     0.673     0.529     0.478\n",
            "\n",
            "     Epoch   gpu_mem      GIoU       obj       cls     total   targets  img_size\n",
            "     56/59     4.89G      1.75     0.545     0.306       2.6         0       512: 100% 405/405 [05:14<00:00,  1.29it/s]\n",
            "               Class    Images   Targets         P         R   mAP@0.5        F1: 100% 218/218 [01:05<00:00,  3.35it/s]\n",
            "                 all  1.74e+03  2.12e+04     0.544     0.691     0.608     0.565\n",
            "\n",
            "     Epoch   gpu_mem      GIoU       obj       cls     total   targets  img_size\n",
            "     57/59     4.89G      1.83     0.547     0.305      2.68         0       512: 100% 405/405 [05:14<00:00,  1.29it/s]\n",
            "               Class    Images   Targets         P         R   mAP@0.5        F1: 100% 218/218 [01:04<00:00,  3.36it/s]\n",
            "                 all  1.74e+03  2.12e+04     0.503     0.671     0.586     0.547\n",
            "\n",
            "     Epoch   gpu_mem      GIoU       obj       cls     total   targets  img_size\n",
            "     58/59     4.89G      1.83      0.55     0.301      2.68         0       512: 100% 405/405 [05:14<00:00,  1.29it/s]\n",
            "               Class    Images   Targets         P         R   mAP@0.5        F1: 100% 218/218 [01:05<00:00,  3.34it/s]\n",
            "                 all  1.74e+03  2.12e+04      0.51     0.717     0.596     0.555\n",
            "\n",
            "     Epoch   gpu_mem      GIoU       obj       cls     total   targets  img_size\n",
            "     59/59     4.89G      1.76     0.533     0.281      2.58         0       512: 100% 405/405 [05:14<00:00,  1.29it/s]\n",
            "               Class    Images   Targets         P         R   mAP@0.5        F1: 100% 218/218 [01:05<00:00,  3.31it/s]\n",
            "                 all  1.74e+03  2.12e+04     0.522     0.645     0.581      0.52\n",
            "60 epochs completed in 6.394 hours.\n",
            "\n"
          ],
          "name": "stdout"
        }
      ]
    },
    {
      "cell_type": "code",
      "metadata": {
        "id": "3NgOyNCXXNgD",
        "colab_type": "code",
        "outputId": "697c7ea8-8882-42e2-ca67-5223dcae1e24",
        "colab": {
          "base_uri": "https://localhost:8080/",
          "height": 414
        }
      },
      "source": [
        "from utils import utils;\n",
        "utils.plot_results()"
      ],
      "execution_count": 0,
      "outputs": [
        {
          "output_type": "display_data",
          "data": {
            "image/png": "[encoded data removed]",
            "text/plain": [
              "<Figure size 864x432 with 10 Axes>"
            ]
          },
          "metadata": {
            "tags": [],
            "needs_background": "light"
          }
        }
      ]
    },
    {
      "cell_type": "code",
      "metadata": {
        "id": "8cDEJRYL3vPM",
        "colab_type": "code",
        "colab": {}
      },
      "source": [
        "# Load the TensorBoard notebook extension\n",
        "%load_ext tensorboard\n",
        "%tensorboard --logdir=runs"
      ],
      "execution_count": 0,
      "outputs": []
    },
    {
      "cell_type": "code",
      "metadata": {
        "id": "8TyL8C4aOpUH",
        "colab_type": "code",
        "outputId": "6dc9b7c7-eeb6-4f0b-9f3a-20f49eadb618",
        "colab": {
          "base_uri": "https://localhost:8080/",
          "height": 227
        }
      },
      "source": [
        "!python3 detect.py --names Dataset/sims_classes.names --cfg yolov3.cfg --weights weights/best_from_yolov3.pt"
      ],
      "execution_count": 0,
      "outputs": [
        {
          "output_type": "stream",
          "text": [
            "Namespace(agnostic_nms=False, augment=False, cfg='yolov3.cfg', classes=None, conf_thres=0.3, device='', fourcc='mp4v', half=False, img_size=512, iou_thres=0.6, names='Dataset/sims_classes.names', output='output', save_txt=False, source='data/samples', view_img=False, weights='weights/best_from_yolov3.pt')\n",
            "Using CUDA device0 _CudaDeviceProperties(name='Tesla P4', total_memory=7611MB)\n",
            "\n",
            "Model Summary: 222 layers, 6.15991e+07 parameters, 6.15991e+07 gradients\n",
            "image 1/5 data/samples/0011.jpg: 384x512 2 airliners, Done. (0.031s)\n",
            "image 2/5 data/samples/0037.jpg: 384x512 4 trucks, 1 longvehicles, Done. (0.032s)\n",
            "image 3/5 data/samples/0061.jpg: 384x512 8 cars, Done. (0.031s)\n",
            "image 4/5 data/samples/0136.jpg: 384x512 14 chartereds, Done. (0.031s)\n",
            "image 5/5 data/samples/0177.jpg: 384x512 1 cars, 2 boats, Done. (0.031s)\n",
            "Results saved to /content/yolov3/output\n",
            "Done. (0.759s)\n"
          ],
          "name": "stdout"
        }
      ]
    },
    {
      "cell_type": "code",
      "metadata": {
        "id": "XiH3Lc5mjVg4",
        "colab_type": "code",
        "outputId": "546c356e-5b22-4114-ebc1-fa3c7508798c",
        "colab": {
          "base_uri": "https://localhost:8080/",
          "height": 625
        }
      },
      "source": [
        "#test on last model\n",
        "!python3 test.py --data Dataset/sims_test.txt --cfg yolov3.cfg --batch-size 8 --weights weights/last_from_yolov3.pt --save-json --img-size 512"
      ],
      "execution_count": 0,
      "outputs": [
        {
          "output_type": "stream",
          "text": [
            "Namespace(augment=False, batch_size=8, cfg='yolov3.cfg', conf_thres=0.001, data='Dataset/sims_test.txt', device='', img_size=512, iou_thres=0.6, save_json=True, single_cls=False, task='test', weights='weights/last_from_yolov3.pt')\n",
            "Using CUDA device0 _CudaDeviceProperties(name='Tesla P4', total_memory=7611MB)\n",
            "\n",
            "Model Summary: 222 layers, 6.15991e+07 parameters, 6.15991e+07 gradients\n",
            "Fusing layers...\n",
            "Model Summary: 150 layers, 6.15728e+07 parameters, 6.15728e+07 gradients\n",
            "Reading image shapes: 100% 748/748 [00:00<00:00, 2000.05it/s]\n",
            "Caching labels (747 found, 0 missing, 0 empty, 0 duplicate, for 748 images): 100% 748/748 [00:00<00:00, 2220.81it/s]\n",
            "               Class    Images   Targets         P         R   mAP@0.5        F1: 100% 94/94 [00:25<00:00,  3.68it/s]\n",
            "                 all       748  7.98e+03     0.526     0.659     0.605     0.534\n",
            "                 car       748  3.68e+03     0.679     0.878       0.8     0.765\n",
            "               truck       748       446     0.503     0.644     0.559     0.565\n",
            "                 van       748       874     0.586     0.755     0.685      0.66\n",
            "         longvehicle       748       222     0.394     0.847      0.53     0.537\n",
            "                 bus       748       366      0.59     0.904     0.825     0.714\n",
            "            airliner       748       161      0.62     0.981     0.924      0.76\n",
            "           propeller       748        25     0.518     0.774     0.701     0.621\n",
            "             trainer       748        49     0.532     0.918     0.736     0.674\n",
            "           chartered       748       103     0.506     0.932     0.773     0.656\n",
            "             fighter       748         8         1     0.125      0.69     0.222\n",
            "               other       748        85     0.055       0.4    0.0665    0.0967\n",
            "          stairtruck       748        83     0.318     0.434      0.29     0.367\n",
            "       pushbacktruck       748        55     0.258     0.152     0.136     0.191\n",
            "          helicopter       748         9     0.448     0.188     0.419     0.265\n",
            "                boat       748  1.82e+03     0.884     0.945     0.943     0.914\n",
            "Speed: 19.6/2.9/22.5 ms inference/NMS/total per 512x512 image at batch-size 8\n",
            "\n",
            "COCO mAP with pycocotools...\n",
            "Traceback (most recent call last):\n",
            "  File \"test.py\", line 257, in <module>\n",
            "    opt.augment)\n",
            "  File \"test.py\", line 211, in test\n",
            "    cocoGt = COCO(glob.glob('../coco/annotations/instances_val*.json')[0])  # initialize COCO ground truth api\n",
            "IndexError: list index out of range\n"
          ],
          "name": "stdout"
        }
      ]
    },
    {
      "cell_type": "code",
      "metadata": {
        "id": "i8OW66a7vuqM",
        "colab_type": "code",
        "outputId": "d1dbd5a8-ca09-4abf-a00f-398455eadbee",
        "colab": {
          "base_uri": "https://localhost:8080/",
          "height": 607
        }
      },
      "source": [
        "#test on best model\n",
        "!python3 test.py --data Dataset/sims_test.txt --cfg yolov3.cfg --batch-size 8 --weights weights/best_from_yolov3.pt --save-json --img-size 512"
      ],
      "execution_count": 0,
      "outputs": [
        {
          "output_type": "stream",
          "text": [
            "Namespace(augment=False, batch_size=8, cfg='yolov3.cfg', conf_thres=0.001, data='Dataset/sims_test.txt', device='', img_size=512, iou_thres=0.6, save_json=True, single_cls=False, task='test', weights='weights/best_from_yolov3.pt')\n",
            "Using CUDA device0 _CudaDeviceProperties(name='Tesla P4', total_memory=7611MB)\n",
            "\n",
            "Model Summary: 222 layers, 6.15991e+07 parameters, 6.15991e+07 gradients\n",
            "Fusing layers...\n",
            "Model Summary: 150 layers, 6.15728e+07 parameters, 6.15728e+07 gradients\n",
            "Caching labels (747 found, 0 missing, 0 empty, 0 duplicate, for 748 images): 100% 748/748 [00:00<00:00, 7115.16it/s]\n",
            "               Class    Images   Targets         P         R   mAP@0.5        F1: 100% 94/94 [00:25<00:00,  3.76it/s]\n",
            "                 all       748  7.98e+03     0.549     0.697     0.634     0.581\n",
            "                 car       748  3.68e+03     0.768     0.836     0.834     0.801\n",
            "               truck       748       446     0.497      0.78     0.674     0.607\n",
            "                 van       748       874     0.499     0.747     0.626     0.598\n",
            "         longvehicle       748       222     0.395     0.856       0.6     0.541\n",
            "                 bus       748       366     0.733     0.847     0.823     0.786\n",
            "            airliner       748       161     0.696     0.981     0.962     0.815\n",
            "           propeller       748        25     0.254      0.92     0.689     0.398\n",
            "             trainer       748        49     0.533     0.863     0.782     0.659\n",
            "           chartered       748       103     0.677     0.854     0.838     0.755\n",
            "             fighter       748         8      0.53     0.625     0.657     0.574\n",
            "               other       748        85    0.0956     0.259    0.0944      0.14\n",
            "          stairtruck       748        83     0.395      0.47     0.328     0.429\n",
            "       pushbacktruck       748        55     0.255     0.145      0.13     0.185\n",
            "          helicopter       748         9         1     0.352      0.54      0.52\n",
            "                boat       748  1.82e+03     0.898     0.918     0.936     0.908\n",
            "Speed: 19.6/2.7/22.3 ms inference/NMS/total per 512x512 image at batch-size 8\n",
            "\n",
            "COCO mAP with pycocotools...\n",
            "Traceback (most recent call last):\n",
            "  File \"test.py\", line 257, in <module>\n",
            "    opt.augment)\n",
            "  File \"test.py\", line 211, in test\n",
            "    cocoGt = COCO(glob.glob('../coco/annotations/instances_val*.json')[0])  # initialize COCO ground truth api\n",
            "IndexError: list index out of range\n"
          ],
          "name": "stdout"
        }
      ]
    },
    {
      "cell_type": "code",
      "metadata": {
        "id": "HLFRoNvnSglq",
        "colab_type": "code",
        "colab": {}
      },
      "source": [
        "#Zip yolov3 contents into drive\n",
        "!zip -r /content/yolov3_baseline_v1_epochs60.zip /content/yolov3/\n",
        "!cp /content/yolov3_baseline_v1_epochs60.zip '/content/drive/My Drive/SIMS_Dataset'"
      ],
      "execution_count": 0,
      "outputs": []
    }
  ]
}