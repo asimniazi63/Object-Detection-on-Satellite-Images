{
  "nbformat": 4,
  "nbformat_minor": 0,
  "metadata": {
    "colab": {
      "name": "RetinaNet_preprocessing.ipynb",
      "provenance": [],
      "collapsed_sections": []
    },
    "kernelspec": {
      "name": "python3",
      "display_name": "Python 3"
    }
  },
  "cells": [
    {
      "cell_type": "code",
      "metadata": {
        "id": "B4CCy1UyWt2E",
        "colab_type": "code",
        "colab": {}
      },
      "source": [
        "#copy datasets from drive\n",
        "%cp '/content/drive/My Drive/SIMS_Datsaet/test.txt' /content/\n",
        "%cp '/content/drive/My Drive/SIMS_Datsaet/training.txt' /content/\n",
        "%cp '/content/drive/My Drive/SIMS_Datsaet/validation.txt' /content/\n",
        "%cp '/content/drive/My Drive/SIMS_Datsaet/images.zip' /content/\n",
        "%cp '/content/drive/My Drive/SIMS_Datsaet/Annotations_in_3_formats.zip' /content/"
      ],
      "execution_count": 0,
      "outputs": []
    },
    {
      "cell_type": "code",
      "metadata": {
        "id": "8z99psQGelDg",
        "colab_type": "code",
        "colab": {}
      },
      "source": [
        "#unzip them\n",
        "!unzip /content/Annotations_in_3_formats.zip\n",
        "!unzip /content/images.zip"
      ],
      "execution_count": 0,
      "outputs": []
    },
    {
      "cell_type": "code",
      "metadata": {
        "id": "chPKuAbJg9VW",
        "colab_type": "code",
        "colab": {}
      },
      "source": [
        "#copy all the annotations from pascal voc to images folder\n",
        "%cp -a /content/annotations/pascal_voc/Annotations/. /content/images/"
      ],
      "execution_count": 0,
      "outputs": []
    },
    {
      "cell_type": "code",
      "metadata": {
        "id": "U95zMQPovHJq",
        "colab_type": "code",
        "colab": {}
      },
      "source": [
        "!mkdir Dataset\n",
        "\n",
        "!mkdir Dataset/train\n",
        "!mkdir Dataset/train/images\n",
        "!mkdir Dataset/train/annotations\n",
        "\n",
        "!mkdir Dataset/valid\n",
        "!mkdir Dataset/valid/images\n",
        "!mkdir Dataset/valid/annotations\n",
        "\n",
        "!mkdir Dataset/test\n",
        "!mkdir Dataset/test/images\n",
        "!mkdir Dataset/test/annotations"
      ],
      "execution_count": 0,
      "outputs": []
    },
    {
      "cell_type": "code",
      "metadata": {
        "id": "ZmKsvStZfFQI",
        "colab_type": "code",
        "colab": {}
      },
      "source": [
        "#preprocess: copy corresponding annotations in {train,test,val} as per paths in {datasets}\n",
        "\n",
        "import shutil\n",
        "import os\n",
        "#copy files based on {datasets in txt}\n",
        "\n",
        "def copy(filepath,dest_dir):\n",
        "    with open(filepath) as fp:\n",
        "        for line in fp:\n",
        "            os.makedirs(dest_dir, exist_ok=True)  # succeeds even if directory exists.\n",
        "            shutil.copy(line.replace('\\n', ''), dest_dir+\"/images\") #image\n",
        "            shutil.copy(line.replace('.jpg\\n', '.xml'), dest_dir+\"/annotations\") ##label\n",
        "\n",
        "#copy files based on {datasets in txt}\n",
        "copy('training.txt','Dataset/train/')\n",
        "copy('validation.txt','Dataset/valid/')\n",
        "copy('test.txt','Dataset/test/')"
      ],
      "execution_count": 0,
      "outputs": []
    },
    {
      "cell_type": "code",
      "metadata": {
        "id": "r5CzLeMAjn42",
        "colab_type": "code",
        "outputId": "dcabf560-c7ea-4e53-c33a-9405e6460e38",
        "colab": {
          "base_uri": "https://localhost:8080/",
          "height": 121
        }
      },
      "source": [
        "#from preprocessing.pascal_voc_to_csv import xml_to_csv\n",
        "\n",
        "import os\n",
        "import glob\n",
        "import pandas as pd\n",
        "import xml.etree.ElementTree as ET\n",
        "\n",
        "def xml_to_csv(path,image_path):\n",
        "    xml_list = []\n",
        "    for xml_file in glob.glob(path + '/*.xml'):\n",
        "        #print(xml_file)\n",
        "        tree = ET.parse(xml_file)\n",
        "        root = tree.getroot()\n",
        "        for member in root.findall('object'):\n",
        "            bbx = member.find('bndbox')\n",
        "            xmin = int(bbx.find('xmin').text)\n",
        "            ymin = int(bbx.find('ymin').text)\n",
        "            xmax = int(bbx.find('xmax').text)\n",
        "            ymax = int(bbx.find('ymax').text)\n",
        "            label = member.find('name').text\n",
        "            \n",
        "            size = root.find('size') #contains height and width of image\n",
        "            w = int(size.find('width').text)\n",
        "            h = int(size.find('height').text)\n",
        "            \n",
        "            # truncate any bb coordinates that fall outside of the image\n",
        "            xmin = max(0, xmin)\n",
        "            ymin = max(0, ymin)\n",
        "            xmax = min(w, xmax)\n",
        "            ymax = min(h, ymax)\n",
        "            \n",
        "            # # ignore the bounding boxes where the minimum values are larger\n",
        "            # # than the maximum values and vice-versa due to annotation errors\n",
        "            if xmin >= xmax or ymin >= ymax:\n",
        "                continue\n",
        "            elif xmax <= xmin or ymax <= ymin:\n",
        "                continue\n",
        "            \n",
        "            file_path = image_path+root.find('filename').text+\".jpg\"\n",
        "            value = (file_path,\n",
        "                     xmin,\n",
        "                     ymin,\n",
        "                     xmax,\n",
        "                     ymax,\n",
        "                     label,\n",
        "                     )\n",
        "            xml_list.append(value)\n",
        "    column_name = ['filename','xmin', 'ymin', 'xmax', 'ymax','class']\n",
        "    xml_df = pd.DataFrame(xml_list, columns=column_name)\n",
        "    return xml_df\n",
        "\n",
        "\n",
        "def main():\n",
        "    root_path = \"Dataset/\"\n",
        "    datasets = ['train','test','valid']\n",
        "    for ds in datasets:\n",
        "        #image_path = os.path.join(os.getcwd(), root_path+ds, 'annotations')\n",
        "        image_path = os.path.join(root_path+ds, 'annotations/')\n",
        "        print(image_path)\n",
        "        update_path = os.path.join(root_path+ds, 'images/')\n",
        "        xml_df = xml_to_csv(image_path,update_path)\n",
        "        xml_df.to_csv('labels_{}.csv'.format(ds), index=None, header=False)\n",
        "        print('Successfully converted xml to csv.')\n",
        "\n",
        "\n",
        "main()"
      ],
      "execution_count": 0,
      "outputs": [
        {
          "output_type": "stream",
          "text": [
            "Dataset/train/annotations/\n",
            "Successfully converted xml to csv.\n",
            "Dataset/test/annotations/\n",
            "Successfully converted xml to csv.\n",
            "Dataset/valid/annotations/\n",
            "Successfully converted xml to csv.\n"
          ],
          "name": "stdout"
        }
      ]
    },
    {
      "cell_type": "code",
      "metadata": {
        "id": "Nbuyrdbry3JA",
        "colab_type": "code",
        "outputId": "18854de5-478b-4751-e476-d3072bc51222",
        "colab": {
          "base_uri": "https://localhost:8080/",
          "height": 408
        }
      },
      "source": [
        "import pandas as pd\n",
        "csv_df = pd.read_csv('/content/labels_train.csv',header=0)\n",
        "csv_df"
      ],
      "execution_count": 0,
      "outputs": [
        {
          "output_type": "execute_result",
          "data": {
            "text/html": [
              "<div>\n",
              "<style scoped>\n",
              "    .dataframe tbody tr th:only-of-type {\n",
              "        vertical-align: middle;\n",
              "    }\n",
              "\n",
              "    .dataframe tbody tr th {\n",
              "        vertical-align: top;\n",
              "    }\n",
              "\n",
              "    .dataframe thead th {\n",
              "        text-align: right;\n",
              "    }\n",
              "</style>\n",
              "<table border=\"1\" class=\"dataframe\">\n",
              "  <thead>\n",
              "    <tr style=\"text-align: right;\">\n",
              "      <th></th>\n",
              "      <th>Dataset/train/images/2651.jpg</th>\n",
              "      <th>80</th>\n",
              "      <th>153</th>\n",
              "      <th>241</th>\n",
              "      <th>367</th>\n",
              "      <th>trainer</th>\n",
              "    </tr>\n",
              "  </thead>\n",
              "  <tbody>\n",
              "    <tr>\n",
              "      <th>0</th>\n",
              "      <td>Dataset/train/images/2651.jpg</td>\n",
              "      <td>188</td>\n",
              "      <td>347</td>\n",
              "      <td>328</td>\n",
              "      <td>523</td>\n",
              "      <td>trainer</td>\n",
              "    </tr>\n",
              "    <tr>\n",
              "      <th>1</th>\n",
              "      <td>Dataset/train/images/2651.jpg</td>\n",
              "      <td>441</td>\n",
              "      <td>60</td>\n",
              "      <td>602</td>\n",
              "      <td>276</td>\n",
              "      <td>trainer</td>\n",
              "    </tr>\n",
              "    <tr>\n",
              "      <th>2</th>\n",
              "      <td>Dataset/train/images/2651.jpg</td>\n",
              "      <td>431</td>\n",
              "      <td>218</td>\n",
              "      <td>588</td>\n",
              "      <td>411</td>\n",
              "      <td>trainer</td>\n",
              "    </tr>\n",
              "    <tr>\n",
              "      <th>3</th>\n",
              "      <td>Dataset/train/images/2651.jpg</td>\n",
              "      <td>469</td>\n",
              "      <td>330</td>\n",
              "      <td>796</td>\n",
              "      <td>704</td>\n",
              "      <td>chartered</td>\n",
              "    </tr>\n",
              "    <tr>\n",
              "      <th>4</th>\n",
              "      <td>Dataset/train/images/0163.jpg</td>\n",
              "      <td>359</td>\n",
              "      <td>202</td>\n",
              "      <td>603</td>\n",
              "      <td>382</td>\n",
              "      <td>airliner</td>\n",
              "    </tr>\n",
              "    <tr>\n",
              "      <th>...</th>\n",
              "      <td>...</td>\n",
              "      <td>...</td>\n",
              "      <td>...</td>\n",
              "      <td>...</td>\n",
              "      <td>...</td>\n",
              "      <td>...</td>\n",
              "    </tr>\n",
              "    <tr>\n",
              "      <th>23871</th>\n",
              "      <td>Dataset/train/images/0918.jpg</td>\n",
              "      <td>220</td>\n",
              "      <td>374</td>\n",
              "      <td>278</td>\n",
              "      <td>471</td>\n",
              "      <td>stairtruck</td>\n",
              "    </tr>\n",
              "    <tr>\n",
              "      <th>23872</th>\n",
              "      <td>Dataset/train/images/0918.jpg</td>\n",
              "      <td>357</td>\n",
              "      <td>676</td>\n",
              "      <td>503</td>\n",
              "      <td>732</td>\n",
              "      <td>bus</td>\n",
              "    </tr>\n",
              "    <tr>\n",
              "      <th>23873</th>\n",
              "      <td>Dataset/train/images/0918.jpg</td>\n",
              "      <td>562</td>\n",
              "      <td>81</td>\n",
              "      <td>650</td>\n",
              "      <td>132</td>\n",
              "      <td>stairtruck</td>\n",
              "    </tr>\n",
              "    <tr>\n",
              "      <th>23874</th>\n",
              "      <td>Dataset/train/images/0918.jpg</td>\n",
              "      <td>485</td>\n",
              "      <td>428</td>\n",
              "      <td>514</td>\n",
              "      <td>492</td>\n",
              "      <td>other</td>\n",
              "    </tr>\n",
              "    <tr>\n",
              "      <th>23875</th>\n",
              "      <td>Dataset/train/images/0918.jpg</td>\n",
              "      <td>347</td>\n",
              "      <td>20</td>\n",
              "      <td>733</td>\n",
              "      <td>448</td>\n",
              "      <td>airliner</td>\n",
              "    </tr>\n",
              "  </tbody>\n",
              "</table>\n",
              "<p>23876 rows × 6 columns</p>\n",
              "</div>"
            ],
            "text/plain": [
              "       Dataset/train/images/2651.jpg   80  153  241  367     trainer\n",
              "0      Dataset/train/images/2651.jpg  188  347  328  523     trainer\n",
              "1      Dataset/train/images/2651.jpg  441   60  602  276     trainer\n",
              "2      Dataset/train/images/2651.jpg  431  218  588  411     trainer\n",
              "3      Dataset/train/images/2651.jpg  469  330  796  704   chartered\n",
              "4      Dataset/train/images/0163.jpg  359  202  603  382    airliner\n",
              "...                              ...  ...  ...  ...  ...         ...\n",
              "23871  Dataset/train/images/0918.jpg  220  374  278  471  stairtruck\n",
              "23872  Dataset/train/images/0918.jpg  357  676  503  732         bus\n",
              "23873  Dataset/train/images/0918.jpg  562   81  650  132  stairtruck\n",
              "23874  Dataset/train/images/0918.jpg  485  428  514  492       other\n",
              "23875  Dataset/train/images/0918.jpg  347   20  733  448    airliner\n",
              "\n",
              "[23876 rows x 6 columns]"
            ]
          },
          "metadata": {
            "tags": []
          },
          "execution_count": 58
        }
      ]
    },
    {
      "cell_type": "code",
      "metadata": {
        "id": "vP5xQI5LS15i",
        "colab_type": "code",
        "colab": {}
      },
      "source": [
        "#Convert csv into txt by changing extension manually"
      ],
      "execution_count": 0,
      "outputs": []
    }
  ]
}